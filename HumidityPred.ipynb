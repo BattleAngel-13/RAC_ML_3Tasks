{
  "nbformat": 4,
  "nbformat_minor": 0,
  "metadata": {
    "colab": {
      "name": "HumidityPred.ipynb",
      "provenance": [],
      "collapsed_sections": []
    },
    "kernelspec": {
      "name": "python3",
      "display_name": "Python 3"
    },
    "language_info": {
      "name": "python"
    }
  },
  "cells": [
    {
      "cell_type": "markdown",
      "metadata": {
        "id": "s8x-8OKCk_Wp"
      },
      "source": [
        "**Importing all necessary libraries**\n"
      ]
    },
    {
      "cell_type": "code",
      "metadata": {
        "id": "D8tq9Dw5lIAN"
      },
      "source": [
        "import pandas as pd \n",
        "from sklearn.metrics import accuracy_score \n",
        "from sklearn.model_selection import train_test_split\n",
        "from sklearn.tree import DecisionTreeClassifier"
      ],
      "execution_count": null,
      "outputs": []
    },
    {
      "cell_type": "code",
      "metadata": {
        "id": "E3311i8ElMFI",
        "colab": {
          "base_uri": "https://localhost:8080/",
          "height": 226
        },
        "outputId": "ba32a028-b4bb-4bce-818d-cc6892bff965"
      },
      "source": [
        "data = pd.read_csv(\"/content/daily_weather.csv\")\n",
        "data.head()"
      ],
      "execution_count": null,
      "outputs": [
        {
          "output_type": "execute_result",
          "data": {
            "text/html": [
              "<div>\n",
              "<style scoped>\n",
              "    .dataframe tbody tr th:only-of-type {\n",
              "        vertical-align: middle;\n",
              "    }\n",
              "\n",
              "    .dataframe tbody tr th {\n",
              "        vertical-align: top;\n",
              "    }\n",
              "\n",
              "    .dataframe thead th {\n",
              "        text-align: right;\n",
              "    }\n",
              "</style>\n",
              "<table border=\"1\" class=\"dataframe\">\n",
              "  <thead>\n",
              "    <tr style=\"text-align: right;\">\n",
              "      <th></th>\n",
              "      <th>number</th>\n",
              "      <th>air_pressure_9am</th>\n",
              "      <th>air_temp_9am</th>\n",
              "      <th>avg_wind_direction_9am</th>\n",
              "      <th>avg_wind_speed_9am</th>\n",
              "      <th>max_wind_direction_9am</th>\n",
              "      <th>max_wind_speed_9am</th>\n",
              "      <th>rain_accumulation_9am</th>\n",
              "      <th>rain_duration_9am</th>\n",
              "      <th>relative_humidity_9am</th>\n",
              "      <th>relative_humidity_3pm</th>\n",
              "    </tr>\n",
              "  </thead>\n",
              "  <tbody>\n",
              "    <tr>\n",
              "      <th>0</th>\n",
              "      <td>0</td>\n",
              "      <td>918.060000</td>\n",
              "      <td>74.822000</td>\n",
              "      <td>271.100000</td>\n",
              "      <td>2.080354</td>\n",
              "      <td>295.400000</td>\n",
              "      <td>2.863283</td>\n",
              "      <td>0.0</td>\n",
              "      <td>0.0</td>\n",
              "      <td>42.420000</td>\n",
              "      <td>36.160000</td>\n",
              "    </tr>\n",
              "    <tr>\n",
              "      <th>1</th>\n",
              "      <td>1</td>\n",
              "      <td>917.347688</td>\n",
              "      <td>71.403843</td>\n",
              "      <td>101.935179</td>\n",
              "      <td>2.443009</td>\n",
              "      <td>140.471548</td>\n",
              "      <td>3.533324</td>\n",
              "      <td>0.0</td>\n",
              "      <td>0.0</td>\n",
              "      <td>24.328697</td>\n",
              "      <td>19.426597</td>\n",
              "    </tr>\n",
              "    <tr>\n",
              "      <th>2</th>\n",
              "      <td>2</td>\n",
              "      <td>923.040000</td>\n",
              "      <td>60.638000</td>\n",
              "      <td>51.000000</td>\n",
              "      <td>17.067852</td>\n",
              "      <td>63.700000</td>\n",
              "      <td>22.100967</td>\n",
              "      <td>0.0</td>\n",
              "      <td>20.0</td>\n",
              "      <td>8.900000</td>\n",
              "      <td>14.460000</td>\n",
              "    </tr>\n",
              "    <tr>\n",
              "      <th>3</th>\n",
              "      <td>3</td>\n",
              "      <td>920.502751</td>\n",
              "      <td>70.138895</td>\n",
              "      <td>198.832133</td>\n",
              "      <td>4.337363</td>\n",
              "      <td>211.203341</td>\n",
              "      <td>5.190045</td>\n",
              "      <td>0.0</td>\n",
              "      <td>0.0</td>\n",
              "      <td>12.189102</td>\n",
              "      <td>12.742547</td>\n",
              "    </tr>\n",
              "    <tr>\n",
              "      <th>4</th>\n",
              "      <td>4</td>\n",
              "      <td>921.160000</td>\n",
              "      <td>44.294000</td>\n",
              "      <td>277.800000</td>\n",
              "      <td>1.856660</td>\n",
              "      <td>136.500000</td>\n",
              "      <td>2.863283</td>\n",
              "      <td>8.9</td>\n",
              "      <td>14730.0</td>\n",
              "      <td>92.410000</td>\n",
              "      <td>76.740000</td>\n",
              "    </tr>\n",
              "  </tbody>\n",
              "</table>\n",
              "</div>"
            ],
            "text/plain": [
              "   number  air_pressure_9am  ...  relative_humidity_9am  relative_humidity_3pm\n",
              "0       0        918.060000  ...              42.420000              36.160000\n",
              "1       1        917.347688  ...              24.328697              19.426597\n",
              "2       2        923.040000  ...               8.900000              14.460000\n",
              "3       3        920.502751  ...              12.189102              12.742547\n",
              "4       4        921.160000  ...              92.410000              76.740000\n",
              "\n",
              "[5 rows x 11 columns]"
            ]
          },
          "metadata": {},
          "execution_count": 2
        }
      ]
    },
    {
      "cell_type": "code",
      "metadata": {
        "id": "KOxO12Egk761",
        "colab": {
          "base_uri": "https://localhost:8080/"
        },
        "outputId": "2691a763-1d66-4412-a17e-6c4fdfeb75cd"
      },
      "source": [
        "data.columns"
      ],
      "execution_count": null,
      "outputs": [
        {
          "output_type": "execute_result",
          "data": {
            "text/plain": [
              "Index(['number', 'air_pressure_9am', 'air_temp_9am', 'avg_wind_direction_9am',\n",
              "       'avg_wind_speed_9am', 'max_wind_direction_9am', 'max_wind_speed_9am',\n",
              "       'rain_accumulation_9am', 'rain_duration_9am', 'relative_humidity_9am',\n",
              "       'relative_humidity_3pm'],\n",
              "      dtype='object')"
            ]
          },
          "metadata": {},
          "execution_count": 3
        }
      ]
    },
    {
      "cell_type": "markdown",
      "metadata": {
        "id": "Utq7gFDPmM6-"
      },
      "source": [
        "**Data Cleaning**"
      ]
    },
    {
      "cell_type": "code",
      "metadata": {
        "colab": {
          "base_uri": "https://localhost:8080/"
        },
        "id": "eiTx_nXQmV6W",
        "outputId": "de17361a-b5bf-41af-9c68-35f1c11a96c2"
      },
      "source": [
        "data.isnull().any().any()"
      ],
      "execution_count": null,
      "outputs": [
        {
          "output_type": "execute_result",
          "data": {
            "text/plain": [
              "True"
            ]
          },
          "metadata": {},
          "execution_count": 4
        }
      ]
    },
    {
      "cell_type": "code",
      "metadata": {
        "colab": {
          "base_uri": "https://localhost:8080/"
        },
        "id": "hVF0K1Deme7e",
        "outputId": "81677878-c850-424d-deec-b4924e9d0896"
      },
      "source": [
        "data.isnull().sum() "
      ],
      "execution_count": null,
      "outputs": [
        {
          "output_type": "execute_result",
          "data": {
            "text/plain": [
              "number                    0\n",
              "air_pressure_9am          3\n",
              "air_temp_9am              5\n",
              "avg_wind_direction_9am    4\n",
              "avg_wind_speed_9am        3\n",
              "max_wind_direction_9am    3\n",
              "max_wind_speed_9am        4\n",
              "rain_accumulation_9am     6\n",
              "rain_duration_9am         3\n",
              "relative_humidity_9am     0\n",
              "relative_humidity_3pm     0\n",
              "dtype: int64"
            ]
          },
          "metadata": {},
          "execution_count": 5
        }
      ]
    },
    {
      "cell_type": "code",
      "metadata": {
        "colab": {
          "base_uri": "https://localhost:8080/",
          "height": 1000
        },
        "id": "pXX1Jmi5mq5B",
        "outputId": "7a088355-8962-419f-927d-a299e74157a0"
      },
      "source": [
        "# Print the rows with missing values \n",
        "data[data.isnull().any(axis = 1)]"
      ],
      "execution_count": null,
      "outputs": [
        {
          "output_type": "execute_result",
          "data": {
            "text/html": [
              "<div>\n",
              "<style scoped>\n",
              "    .dataframe tbody tr th:only-of-type {\n",
              "        vertical-align: middle;\n",
              "    }\n",
              "\n",
              "    .dataframe tbody tr th {\n",
              "        vertical-align: top;\n",
              "    }\n",
              "\n",
              "    .dataframe thead th {\n",
              "        text-align: right;\n",
              "    }\n",
              "</style>\n",
              "<table border=\"1\" class=\"dataframe\">\n",
              "  <thead>\n",
              "    <tr style=\"text-align: right;\">\n",
              "      <th></th>\n",
              "      <th>number</th>\n",
              "      <th>air_pressure_9am</th>\n",
              "      <th>air_temp_9am</th>\n",
              "      <th>avg_wind_direction_9am</th>\n",
              "      <th>avg_wind_speed_9am</th>\n",
              "      <th>max_wind_direction_9am</th>\n",
              "      <th>max_wind_speed_9am</th>\n",
              "      <th>rain_accumulation_9am</th>\n",
              "      <th>rain_duration_9am</th>\n",
              "      <th>relative_humidity_9am</th>\n",
              "      <th>relative_humidity_3pm</th>\n",
              "    </tr>\n",
              "  </thead>\n",
              "  <tbody>\n",
              "    <tr>\n",
              "      <th>16</th>\n",
              "      <td>16</td>\n",
              "      <td>917.890000</td>\n",
              "      <td>NaN</td>\n",
              "      <td>169.200000</td>\n",
              "      <td>2.192201</td>\n",
              "      <td>196.800000</td>\n",
              "      <td>2.930391</td>\n",
              "      <td>0.000</td>\n",
              "      <td>0.000000</td>\n",
              "      <td>48.990000</td>\n",
              "      <td>51.190000</td>\n",
              "    </tr>\n",
              "    <tr>\n",
              "      <th>111</th>\n",
              "      <td>111</td>\n",
              "      <td>915.290000</td>\n",
              "      <td>58.820000</td>\n",
              "      <td>182.600000</td>\n",
              "      <td>15.613841</td>\n",
              "      <td>189.000000</td>\n",
              "      <td>NaN</td>\n",
              "      <td>0.000</td>\n",
              "      <td>0.000000</td>\n",
              "      <td>21.500000</td>\n",
              "      <td>29.690000</td>\n",
              "    </tr>\n",
              "    <tr>\n",
              "      <th>177</th>\n",
              "      <td>177</td>\n",
              "      <td>915.900000</td>\n",
              "      <td>NaN</td>\n",
              "      <td>183.300000</td>\n",
              "      <td>4.719943</td>\n",
              "      <td>189.900000</td>\n",
              "      <td>5.346287</td>\n",
              "      <td>0.000</td>\n",
              "      <td>0.000000</td>\n",
              "      <td>29.260000</td>\n",
              "      <td>46.500000</td>\n",
              "    </tr>\n",
              "    <tr>\n",
              "      <th>262</th>\n",
              "      <td>262</td>\n",
              "      <td>923.596607</td>\n",
              "      <td>58.380598</td>\n",
              "      <td>47.737753</td>\n",
              "      <td>10.636273</td>\n",
              "      <td>67.145843</td>\n",
              "      <td>13.671423</td>\n",
              "      <td>0.000</td>\n",
              "      <td>NaN</td>\n",
              "      <td>17.990876</td>\n",
              "      <td>16.461685</td>\n",
              "    </tr>\n",
              "    <tr>\n",
              "      <th>277</th>\n",
              "      <td>277</td>\n",
              "      <td>920.480000</td>\n",
              "      <td>62.600000</td>\n",
              "      <td>194.400000</td>\n",
              "      <td>2.751436</td>\n",
              "      <td>NaN</td>\n",
              "      <td>3.869906</td>\n",
              "      <td>0.000</td>\n",
              "      <td>0.000000</td>\n",
              "      <td>52.580000</td>\n",
              "      <td>54.030000</td>\n",
              "    </tr>\n",
              "    <tr>\n",
              "      <th>334</th>\n",
              "      <td>334</td>\n",
              "      <td>916.230000</td>\n",
              "      <td>75.740000</td>\n",
              "      <td>149.100000</td>\n",
              "      <td>2.751436</td>\n",
              "      <td>187.500000</td>\n",
              "      <td>4.183078</td>\n",
              "      <td>NaN</td>\n",
              "      <td>1480.000000</td>\n",
              "      <td>31.880000</td>\n",
              "      <td>32.900000</td>\n",
              "    </tr>\n",
              "    <tr>\n",
              "      <th>358</th>\n",
              "      <td>358</td>\n",
              "      <td>917.440000</td>\n",
              "      <td>58.514000</td>\n",
              "      <td>55.100000</td>\n",
              "      <td>10.021491</td>\n",
              "      <td>NaN</td>\n",
              "      <td>12.705819</td>\n",
              "      <td>0.000</td>\n",
              "      <td>0.000000</td>\n",
              "      <td>13.880000</td>\n",
              "      <td>25.930000</td>\n",
              "    </tr>\n",
              "    <tr>\n",
              "      <th>361</th>\n",
              "      <td>361</td>\n",
              "      <td>920.444946</td>\n",
              "      <td>65.801845</td>\n",
              "      <td>49.823346</td>\n",
              "      <td>21.520177</td>\n",
              "      <td>61.886944</td>\n",
              "      <td>25.549112</td>\n",
              "      <td>NaN</td>\n",
              "      <td>40.364018</td>\n",
              "      <td>12.278715</td>\n",
              "      <td>7.618649</td>\n",
              "    </tr>\n",
              "    <tr>\n",
              "      <th>381</th>\n",
              "      <td>381</td>\n",
              "      <td>918.480000</td>\n",
              "      <td>66.542000</td>\n",
              "      <td>90.900000</td>\n",
              "      <td>3.467257</td>\n",
              "      <td>89.400000</td>\n",
              "      <td>4.406772</td>\n",
              "      <td>NaN</td>\n",
              "      <td>0.000000</td>\n",
              "      <td>20.640000</td>\n",
              "      <td>14.350000</td>\n",
              "    </tr>\n",
              "    <tr>\n",
              "      <th>409</th>\n",
              "      <td>409</td>\n",
              "      <td>NaN</td>\n",
              "      <td>67.853833</td>\n",
              "      <td>65.880616</td>\n",
              "      <td>4.328594</td>\n",
              "      <td>78.570923</td>\n",
              "      <td>5.216734</td>\n",
              "      <td>0.000</td>\n",
              "      <td>0.000000</td>\n",
              "      <td>18.487385</td>\n",
              "      <td>20.356594</td>\n",
              "    </tr>\n",
              "    <tr>\n",
              "      <th>517</th>\n",
              "      <td>517</td>\n",
              "      <td>920.570000</td>\n",
              "      <td>53.600000</td>\n",
              "      <td>100.100000</td>\n",
              "      <td>4.697574</td>\n",
              "      <td>NaN</td>\n",
              "      <td>6.285801</td>\n",
              "      <td>4.712</td>\n",
              "      <td>14842.000000</td>\n",
              "      <td>79.880000</td>\n",
              "      <td>84.530000</td>\n",
              "    </tr>\n",
              "    <tr>\n",
              "      <th>519</th>\n",
              "      <td>519</td>\n",
              "      <td>916.250000</td>\n",
              "      <td>55.670000</td>\n",
              "      <td>176.400000</td>\n",
              "      <td>6.666081</td>\n",
              "      <td>188.200000</td>\n",
              "      <td>NaN</td>\n",
              "      <td>0.000</td>\n",
              "      <td>0.000000</td>\n",
              "      <td>72.550000</td>\n",
              "      <td>74.390000</td>\n",
              "    </tr>\n",
              "    <tr>\n",
              "      <th>546</th>\n",
              "      <td>546</td>\n",
              "      <td>NaN</td>\n",
              "      <td>42.746000</td>\n",
              "      <td>251.100000</td>\n",
              "      <td>12.929513</td>\n",
              "      <td>274.400000</td>\n",
              "      <td>17.604718</td>\n",
              "      <td>14.627</td>\n",
              "      <td>7825.000000</td>\n",
              "      <td>87.870000</td>\n",
              "      <td>70.770000</td>\n",
              "    </tr>\n",
              "    <tr>\n",
              "      <th>620</th>\n",
              "      <td>620</td>\n",
              "      <td>921.200000</td>\n",
              "      <td>56.786000</td>\n",
              "      <td>192.300000</td>\n",
              "      <td>9.551734</td>\n",
              "      <td>201.400000</td>\n",
              "      <td>11.005745</td>\n",
              "      <td>NaN</td>\n",
              "      <td>0.000000</td>\n",
              "      <td>59.790000</td>\n",
              "      <td>77.750000</td>\n",
              "    </tr>\n",
              "    <tr>\n",
              "      <th>625</th>\n",
              "      <td>625</td>\n",
              "      <td>912.400000</td>\n",
              "      <td>50.774000</td>\n",
              "      <td>171.600000</td>\n",
              "      <td>NaN</td>\n",
              "      <td>181.400000</td>\n",
              "      <td>4.831790</td>\n",
              "      <td>0.000</td>\n",
              "      <td>0.000000</td>\n",
              "      <td>86.840000</td>\n",
              "      <td>64.740000</td>\n",
              "    </tr>\n",
              "    <tr>\n",
              "      <th>656</th>\n",
              "      <td>656</td>\n",
              "      <td>920.830000</td>\n",
              "      <td>66.344000</td>\n",
              "      <td>NaN</td>\n",
              "      <td>15.457255</td>\n",
              "      <td>189.400000</td>\n",
              "      <td>16.486248</td>\n",
              "      <td>0.000</td>\n",
              "      <td>0.000000</td>\n",
              "      <td>23.770000</td>\n",
              "      <td>51.630000</td>\n",
              "    </tr>\n",
              "    <tr>\n",
              "      <th>670</th>\n",
              "      <td>670</td>\n",
              "      <td>910.920000</td>\n",
              "      <td>48.362000</td>\n",
              "      <td>156.500000</td>\n",
              "      <td>NaN</td>\n",
              "      <td>177.500000</td>\n",
              "      <td>16.128337</td>\n",
              "      <td>4.970</td>\n",
              "      <td>10560.000000</td>\n",
              "      <td>80.560000</td>\n",
              "      <td>88.220000</td>\n",
              "    </tr>\n",
              "    <tr>\n",
              "      <th>672</th>\n",
              "      <td>672</td>\n",
              "      <td>922.448945</td>\n",
              "      <td>72.863773</td>\n",
              "      <td>NaN</td>\n",
              "      <td>3.682370</td>\n",
              "      <td>214.196160</td>\n",
              "      <td>4.849450</td>\n",
              "      <td>0.000</td>\n",
              "      <td>0.000000</td>\n",
              "      <td>16.753670</td>\n",
              "      <td>17.804720</td>\n",
              "    </tr>\n",
              "    <tr>\n",
              "      <th>705</th>\n",
              "      <td>705</td>\n",
              "      <td>911.900000</td>\n",
              "      <td>59.072000</td>\n",
              "      <td>199.800000</td>\n",
              "      <td>1.275056</td>\n",
              "      <td>239.500000</td>\n",
              "      <td>1.834291</td>\n",
              "      <td>NaN</td>\n",
              "      <td>0.000000</td>\n",
              "      <td>77.630000</td>\n",
              "      <td>59.130000</td>\n",
              "    </tr>\n",
              "    <tr>\n",
              "      <th>731</th>\n",
              "      <td>731</td>\n",
              "      <td>922.970166</td>\n",
              "      <td>51.391847</td>\n",
              "      <td>33.810942</td>\n",
              "      <td>NaN</td>\n",
              "      <td>59.290089</td>\n",
              "      <td>11.111555</td>\n",
              "      <td>0.000</td>\n",
              "      <td>4.735034</td>\n",
              "      <td>34.807753</td>\n",
              "      <td>18.418179</td>\n",
              "    </tr>\n",
              "    <tr>\n",
              "      <th>737</th>\n",
              "      <td>737</td>\n",
              "      <td>917.895130</td>\n",
              "      <td>76.804690</td>\n",
              "      <td>104.771020</td>\n",
              "      <td>1.632705</td>\n",
              "      <td>97.178763</td>\n",
              "      <td>NaN</td>\n",
              "      <td>0.000</td>\n",
              "      <td>0.000000</td>\n",
              "      <td>13.771311</td>\n",
              "      <td>16.792455</td>\n",
              "    </tr>\n",
              "    <tr>\n",
              "      <th>788</th>\n",
              "      <td>788</td>\n",
              "      <td>917.923442</td>\n",
              "      <td>73.249717</td>\n",
              "      <td>42.101739</td>\n",
              "      <td>4.132698</td>\n",
              "      <td>64.284969</td>\n",
              "      <td>5.345258</td>\n",
              "      <td>0.000</td>\n",
              "      <td>NaN</td>\n",
              "      <td>6.939692</td>\n",
              "      <td>18.793825</td>\n",
              "    </tr>\n",
              "    <tr>\n",
              "      <th>840</th>\n",
              "      <td>840</td>\n",
              "      <td>918.043767</td>\n",
              "      <td>NaN</td>\n",
              "      <td>181.774042</td>\n",
              "      <td>0.964376</td>\n",
              "      <td>185.618601</td>\n",
              "      <td>1.570007</td>\n",
              "      <td>0.000</td>\n",
              "      <td>0.000000</td>\n",
              "      <td>11.911222</td>\n",
              "      <td>18.154358</td>\n",
              "    </tr>\n",
              "    <tr>\n",
              "      <th>848</th>\n",
              "      <td>848</td>\n",
              "      <td>915.250000</td>\n",
              "      <td>37.562000</td>\n",
              "      <td>246.500000</td>\n",
              "      <td>11.587349</td>\n",
              "      <td>258.700000</td>\n",
              "      <td>NaN</td>\n",
              "      <td>3.171</td>\n",
              "      <td>2891.000000</td>\n",
              "      <td>91.000000</td>\n",
              "      <td>90.780000</td>\n",
              "    </tr>\n",
              "    <tr>\n",
              "      <th>861</th>\n",
              "      <td>861</td>\n",
              "      <td>919.065408</td>\n",
              "      <td>NaN</td>\n",
              "      <td>172.303728</td>\n",
              "      <td>2.639600</td>\n",
              "      <td>193.058141</td>\n",
              "      <td>3.326949</td>\n",
              "      <td>0.000</td>\n",
              "      <td>0.000000</td>\n",
              "      <td>12.497839</td>\n",
              "      <td>13.438518</td>\n",
              "    </tr>\n",
              "    <tr>\n",
              "      <th>869</th>\n",
              "      <td>869</td>\n",
              "      <td>NaN</td>\n",
              "      <td>45.104000</td>\n",
              "      <td>259.000000</td>\n",
              "      <td>3.265932</td>\n",
              "      <td>275.000000</td>\n",
              "      <td>4.026492</td>\n",
              "      <td>0.000</td>\n",
              "      <td>80.000000</td>\n",
              "      <td>85.270000</td>\n",
              "      <td>90.260000</td>\n",
              "    </tr>\n",
              "    <tr>\n",
              "      <th>998</th>\n",
              "      <td>998</td>\n",
              "      <td>914.140000</td>\n",
              "      <td>71.240000</td>\n",
              "      <td>NaN</td>\n",
              "      <td>1.722444</td>\n",
              "      <td>232.900000</td>\n",
              "      <td>2.326418</td>\n",
              "      <td>0.000</td>\n",
              "      <td>0.000000</td>\n",
              "      <td>24.200000</td>\n",
              "      <td>41.380000</td>\n",
              "    </tr>\n",
              "    <tr>\n",
              "      <th>1031</th>\n",
              "      <td>1031</td>\n",
              "      <td>922.669195</td>\n",
              "      <td>NaN</td>\n",
              "      <td>47.946284</td>\n",
              "      <td>7.969686</td>\n",
              "      <td>65.770066</td>\n",
              "      <td>10.262337</td>\n",
              "      <td>0.000</td>\n",
              "      <td>0.000000</td>\n",
              "      <td>18.920805</td>\n",
              "      <td>19.641841</td>\n",
              "    </tr>\n",
              "    <tr>\n",
              "      <th>1035</th>\n",
              "      <td>1035</td>\n",
              "      <td>919.670000</td>\n",
              "      <td>77.576000</td>\n",
              "      <td>171.800000</td>\n",
              "      <td>6.554234</td>\n",
              "      <td>191.000000</td>\n",
              "      <td>8.164831</td>\n",
              "      <td>0.000</td>\n",
              "      <td>NaN</td>\n",
              "      <td>56.860000</td>\n",
              "      <td>50.650000</td>\n",
              "    </tr>\n",
              "    <tr>\n",
              "      <th>1063</th>\n",
              "      <td>1063</td>\n",
              "      <td>917.300185</td>\n",
              "      <td>65.790001</td>\n",
              "      <td>NaN</td>\n",
              "      <td>1.879553</td>\n",
              "      <td>222.498226</td>\n",
              "      <td>2.692862</td>\n",
              "      <td>0.000</td>\n",
              "      <td>0.000000</td>\n",
              "      <td>14.972668</td>\n",
              "      <td>20.966267</td>\n",
              "    </tr>\n",
              "    <tr>\n",
              "      <th>1066</th>\n",
              "      <td>1066</td>\n",
              "      <td>919.564869</td>\n",
              "      <td>73.726732</td>\n",
              "      <td>68.704694</td>\n",
              "      <td>3.551777</td>\n",
              "      <td>102.571616</td>\n",
              "      <td>4.861315</td>\n",
              "      <td>NaN</td>\n",
              "      <td>0.000000</td>\n",
              "      <td>11.657314</td>\n",
              "      <td>17.331823</td>\n",
              "    </tr>\n",
              "  </tbody>\n",
              "</table>\n",
              "</div>"
            ],
            "text/plain": [
              "      number  air_pressure_9am  ...  relative_humidity_9am  relative_humidity_3pm\n",
              "16        16        917.890000  ...              48.990000              51.190000\n",
              "111      111        915.290000  ...              21.500000              29.690000\n",
              "177      177        915.900000  ...              29.260000              46.500000\n",
              "262      262        923.596607  ...              17.990876              16.461685\n",
              "277      277        920.480000  ...              52.580000              54.030000\n",
              "334      334        916.230000  ...              31.880000              32.900000\n",
              "358      358        917.440000  ...              13.880000              25.930000\n",
              "361      361        920.444946  ...              12.278715               7.618649\n",
              "381      381        918.480000  ...              20.640000              14.350000\n",
              "409      409               NaN  ...              18.487385              20.356594\n",
              "517      517        920.570000  ...              79.880000              84.530000\n",
              "519      519        916.250000  ...              72.550000              74.390000\n",
              "546      546               NaN  ...              87.870000              70.770000\n",
              "620      620        921.200000  ...              59.790000              77.750000\n",
              "625      625        912.400000  ...              86.840000              64.740000\n",
              "656      656        920.830000  ...              23.770000              51.630000\n",
              "670      670        910.920000  ...              80.560000              88.220000\n",
              "672      672        922.448945  ...              16.753670              17.804720\n",
              "705      705        911.900000  ...              77.630000              59.130000\n",
              "731      731        922.970166  ...              34.807753              18.418179\n",
              "737      737        917.895130  ...              13.771311              16.792455\n",
              "788      788        917.923442  ...               6.939692              18.793825\n",
              "840      840        918.043767  ...              11.911222              18.154358\n",
              "848      848        915.250000  ...              91.000000              90.780000\n",
              "861      861        919.065408  ...              12.497839              13.438518\n",
              "869      869               NaN  ...              85.270000              90.260000\n",
              "998      998        914.140000  ...              24.200000              41.380000\n",
              "1031    1031        922.669195  ...              18.920805              19.641841\n",
              "1035    1035        919.670000  ...              56.860000              50.650000\n",
              "1063    1063        917.300185  ...              14.972668              20.966267\n",
              "1066    1066        919.564869  ...              11.657314              17.331823\n",
              "\n",
              "[31 rows x 11 columns]"
            ]
          },
          "metadata": {},
          "execution_count": 6
        }
      ]
    },
    {
      "cell_type": "code",
      "metadata": {
        "colab": {
          "base_uri": "https://localhost:8080/"
        },
        "id": "UClgzA7dmyee",
        "outputId": "1a36f19d-2050-42ce-98bc-10b68ff686d8"
      },
      "source": [
        "# We do not need to number the rows as Pandas provides its's own indexing \n",
        "del data['number']\n",
        "data.columns"
      ],
      "execution_count": null,
      "outputs": [
        {
          "output_type": "execute_result",
          "data": {
            "text/plain": [
              "Index(['air_pressure_9am', 'air_temp_9am', 'avg_wind_direction_9am',\n",
              "       'avg_wind_speed_9am', 'max_wind_direction_9am', 'max_wind_speed_9am',\n",
              "       'rain_accumulation_9am', 'rain_duration_9am', 'relative_humidity_9am',\n",
              "       'relative_humidity_3pm'],\n",
              "      dtype='object')"
            ]
          },
          "metadata": {},
          "execution_count": 7
        }
      ]
    },
    {
      "cell_type": "code",
      "metadata": {
        "id": "TXsMDSGTm2zn"
      },
      "source": [
        "#Drop out rows with null values\n",
        "before_rows = data.shape[0]\n",
        "data = data.dropna()\n",
        "after_rows = data.shape[0]"
      ],
      "execution_count": null,
      "outputs": []
    },
    {
      "cell_type": "code",
      "metadata": {
        "colab": {
          "base_uri": "https://localhost:8080/"
        },
        "id": "jPTZbphsnmmO",
        "outputId": "0bd4edd2-ea00-4833-a64e-7201a3443195"
      },
      "source": [
        "print(\"The number of dropped rows are {}\".format(before_rows - after_rows))"
      ],
      "execution_count": null,
      "outputs": [
        {
          "output_type": "stream",
          "name": "stdout",
          "text": [
            "The number of dropped rows are 31\n"
          ]
        }
      ]
    },
    {
      "cell_type": "markdown",
      "metadata": {
        "id": "xUSGjlmSnsil"
      },
      "source": [
        "\n",
        "**Convert to a Classification task**\n",
        "\n",
        "**Binarize the relative humidity_3pm to 0 or 1**"
      ]
    },
    {
      "cell_type": "markdown",
      "metadata": {
        "id": "JGhNh9uvP4kA"
      },
      "source": [
        "We are assigning the values 0 or 1 and adding a new column 'high humidity label'. We are basically classifying the data into two categories ( binary problem ) by setting a desired value ( 24.99 , in this case ) to be the threshold and anything above is high ( 1 ) and anything below is low ( 0 )."
      ]
    },
    {
      "cell_type": "code",
      "metadata": {
        "id": "_77m3_XCn24Q",
        "colab": {
          "base_uri": "https://localhost:8080/"
        },
        "outputId": "887e0665-9cde-47f8-801b-5de2e2ccd493"
      },
      "source": [
        "clean_data = data.copy() # New data frame to avoid confusion \n",
        "clean_data['high_humidity_label'] = (clean_data['relative_humidity_3pm'] > 24.99) * 1\n",
        "print(clean_data['high_humidity_label'])"
      ],
      "execution_count": null,
      "outputs": [
        {
          "output_type": "stream",
          "name": "stdout",
          "text": [
            "0       1\n",
            "1       0\n",
            "2       0\n",
            "3       0\n",
            "4       1\n",
            "       ..\n",
            "1090    1\n",
            "1091    1\n",
            "1092    1\n",
            "1093    1\n",
            "1094    0\n",
            "Name: high_humidity_label, Length: 1064, dtype: int64\n"
          ]
        }
      ]
    },
    {
      "cell_type": "code",
      "metadata": {
        "colab": {
          "base_uri": "https://localhost:8080/",
          "height": 423
        },
        "id": "LBaYirq3QFkM",
        "outputId": "c1c30b3f-c354-4bf0-9153-f14e42a9b601"
      },
      "source": [
        "y = clean_data[['high_humidity_label']].copy()\n",
        "y"
      ],
      "execution_count": null,
      "outputs": [
        {
          "output_type": "execute_result",
          "data": {
            "text/html": [
              "<div>\n",
              "<style scoped>\n",
              "    .dataframe tbody tr th:only-of-type {\n",
              "        vertical-align: middle;\n",
              "    }\n",
              "\n",
              "    .dataframe tbody tr th {\n",
              "        vertical-align: top;\n",
              "    }\n",
              "\n",
              "    .dataframe thead th {\n",
              "        text-align: right;\n",
              "    }\n",
              "</style>\n",
              "<table border=\"1\" class=\"dataframe\">\n",
              "  <thead>\n",
              "    <tr style=\"text-align: right;\">\n",
              "      <th></th>\n",
              "      <th>high_humidity_label</th>\n",
              "    </tr>\n",
              "  </thead>\n",
              "  <tbody>\n",
              "    <tr>\n",
              "      <th>0</th>\n",
              "      <td>1</td>\n",
              "    </tr>\n",
              "    <tr>\n",
              "      <th>1</th>\n",
              "      <td>0</td>\n",
              "    </tr>\n",
              "    <tr>\n",
              "      <th>2</th>\n",
              "      <td>0</td>\n",
              "    </tr>\n",
              "    <tr>\n",
              "      <th>3</th>\n",
              "      <td>0</td>\n",
              "    </tr>\n",
              "    <tr>\n",
              "      <th>4</th>\n",
              "      <td>1</td>\n",
              "    </tr>\n",
              "    <tr>\n",
              "      <th>...</th>\n",
              "      <td>...</td>\n",
              "    </tr>\n",
              "    <tr>\n",
              "      <th>1090</th>\n",
              "      <td>1</td>\n",
              "    </tr>\n",
              "    <tr>\n",
              "      <th>1091</th>\n",
              "      <td>1</td>\n",
              "    </tr>\n",
              "    <tr>\n",
              "      <th>1092</th>\n",
              "      <td>1</td>\n",
              "    </tr>\n",
              "    <tr>\n",
              "      <th>1093</th>\n",
              "      <td>1</td>\n",
              "    </tr>\n",
              "    <tr>\n",
              "      <th>1094</th>\n",
              "      <td>0</td>\n",
              "    </tr>\n",
              "  </tbody>\n",
              "</table>\n",
              "<p>1064 rows × 1 columns</p>\n",
              "</div>"
            ],
            "text/plain": [
              "      high_humidity_label\n",
              "0                       1\n",
              "1                       0\n",
              "2                       0\n",
              "3                       0\n",
              "4                       1\n",
              "...                   ...\n",
              "1090                    1\n",
              "1091                    1\n",
              "1092                    1\n",
              "1093                    1\n",
              "1094                    0\n",
              "\n",
              "[1064 rows x 1 columns]"
            ]
          },
          "metadata": {},
          "execution_count": 11
        }
      ]
    },
    {
      "cell_type": "code",
      "metadata": {
        "colab": {
          "base_uri": "https://localhost:8080/"
        },
        "id": "8e4op_RRQTK8",
        "outputId": "26423d87-02a4-4bb2-f908-05275af1b971"
      },
      "source": [
        "clean_data['relative_humidity_3pm'].head()"
      ],
      "execution_count": null,
      "outputs": [
        {
          "output_type": "execute_result",
          "data": {
            "text/plain": [
              "0    36.160000\n",
              "1    19.426597\n",
              "2    14.460000\n",
              "3    12.742547\n",
              "4    76.740000\n",
              "Name: relative_humidity_3pm, dtype: float64"
            ]
          },
          "metadata": {},
          "execution_count": 12
        }
      ]
    },
    {
      "cell_type": "code",
      "metadata": {
        "colab": {
          "base_uri": "https://localhost:8080/",
          "height": 206
        },
        "id": "N90OIoUuRHHh",
        "outputId": "0e32d059-2da5-4215-9452-00f64ceec1a3"
      },
      "source": [
        "y.head()"
      ],
      "execution_count": null,
      "outputs": [
        {
          "output_type": "execute_result",
          "data": {
            "text/html": [
              "<div>\n",
              "<style scoped>\n",
              "    .dataframe tbody tr th:only-of-type {\n",
              "        vertical-align: middle;\n",
              "    }\n",
              "\n",
              "    .dataframe tbody tr th {\n",
              "        vertical-align: top;\n",
              "    }\n",
              "\n",
              "    .dataframe thead th {\n",
              "        text-align: right;\n",
              "    }\n",
              "</style>\n",
              "<table border=\"1\" class=\"dataframe\">\n",
              "  <thead>\n",
              "    <tr style=\"text-align: right;\">\n",
              "      <th></th>\n",
              "      <th>high_humidity_label</th>\n",
              "    </tr>\n",
              "  </thead>\n",
              "  <tbody>\n",
              "    <tr>\n",
              "      <th>0</th>\n",
              "      <td>1</td>\n",
              "    </tr>\n",
              "    <tr>\n",
              "      <th>1</th>\n",
              "      <td>0</td>\n",
              "    </tr>\n",
              "    <tr>\n",
              "      <th>2</th>\n",
              "      <td>0</td>\n",
              "    </tr>\n",
              "    <tr>\n",
              "      <th>3</th>\n",
              "      <td>0</td>\n",
              "    </tr>\n",
              "    <tr>\n",
              "      <th>4</th>\n",
              "      <td>1</td>\n",
              "    </tr>\n",
              "  </tbody>\n",
              "</table>\n",
              "</div>"
            ],
            "text/plain": [
              "   high_humidity_label\n",
              "0                    1\n",
              "1                    0\n",
              "2                    0\n",
              "3                    0\n",
              "4                    1"
            ]
          },
          "metadata": {},
          "execution_count": 13
        }
      ]
    },
    {
      "cell_type": "markdown",
      "metadata": {
        "id": "7lcPVeGwTO1t"
      },
      "source": [
        "Use 9am Sensor signals to predict Humidity at 3PM"
      ]
    },
    {
      "cell_type": "code",
      "metadata": {
        "colab": {
          "base_uri": "https://localhost:8080/"
        },
        "id": "oNZcXW71TP4F",
        "outputId": "4aaa2d36-c1b7-4cad-a9b3-ef28332554ee"
      },
      "source": [
        "time = '9am'\n",
        "features = list(clean_data.columns[clean_data.columns.str.contains(time)])\n",
        "\n",
        "# we do not need relative humidity at 9am \n",
        "features.remove('relative_humidity_9am')\n",
        "\n",
        "features"
      ],
      "execution_count": null,
      "outputs": [
        {
          "output_type": "execute_result",
          "data": {
            "text/plain": [
              "['air_pressure_9am',\n",
              " 'air_temp_9am',\n",
              " 'avg_wind_direction_9am',\n",
              " 'avg_wind_speed_9am',\n",
              " 'max_wind_direction_9am',\n",
              " 'max_wind_speed_9am',\n",
              " 'rain_accumulation_9am',\n",
              " 'rain_duration_9am']"
            ]
          },
          "metadata": {},
          "execution_count": 14
        }
      ]
    },
    {
      "cell_type": "code",
      "metadata": {
        "colab": {
          "base_uri": "https://localhost:8080/",
          "height": 443
        },
        "id": "M7_5EA_kTYSS",
        "outputId": "bce0253d-a332-4937-8a74-ce0a857628f4"
      },
      "source": [
        "# Make the data of these features as X\n",
        "X = clean_data[features].copy()\n",
        "X"
      ],
      "execution_count": null,
      "outputs": [
        {
          "output_type": "execute_result",
          "data": {
            "text/html": [
              "<div>\n",
              "<style scoped>\n",
              "    .dataframe tbody tr th:only-of-type {\n",
              "        vertical-align: middle;\n",
              "    }\n",
              "\n",
              "    .dataframe tbody tr th {\n",
              "        vertical-align: top;\n",
              "    }\n",
              "\n",
              "    .dataframe thead th {\n",
              "        text-align: right;\n",
              "    }\n",
              "</style>\n",
              "<table border=\"1\" class=\"dataframe\">\n",
              "  <thead>\n",
              "    <tr style=\"text-align: right;\">\n",
              "      <th></th>\n",
              "      <th>air_pressure_9am</th>\n",
              "      <th>air_temp_9am</th>\n",
              "      <th>avg_wind_direction_9am</th>\n",
              "      <th>avg_wind_speed_9am</th>\n",
              "      <th>max_wind_direction_9am</th>\n",
              "      <th>max_wind_speed_9am</th>\n",
              "      <th>rain_accumulation_9am</th>\n",
              "      <th>rain_duration_9am</th>\n",
              "    </tr>\n",
              "  </thead>\n",
              "  <tbody>\n",
              "    <tr>\n",
              "      <th>0</th>\n",
              "      <td>918.060000</td>\n",
              "      <td>74.822000</td>\n",
              "      <td>271.100000</td>\n",
              "      <td>2.080354</td>\n",
              "      <td>295.400000</td>\n",
              "      <td>2.863283</td>\n",
              "      <td>0.0</td>\n",
              "      <td>0.0</td>\n",
              "    </tr>\n",
              "    <tr>\n",
              "      <th>1</th>\n",
              "      <td>917.347688</td>\n",
              "      <td>71.403843</td>\n",
              "      <td>101.935179</td>\n",
              "      <td>2.443009</td>\n",
              "      <td>140.471548</td>\n",
              "      <td>3.533324</td>\n",
              "      <td>0.0</td>\n",
              "      <td>0.0</td>\n",
              "    </tr>\n",
              "    <tr>\n",
              "      <th>2</th>\n",
              "      <td>923.040000</td>\n",
              "      <td>60.638000</td>\n",
              "      <td>51.000000</td>\n",
              "      <td>17.067852</td>\n",
              "      <td>63.700000</td>\n",
              "      <td>22.100967</td>\n",
              "      <td>0.0</td>\n",
              "      <td>20.0</td>\n",
              "    </tr>\n",
              "    <tr>\n",
              "      <th>3</th>\n",
              "      <td>920.502751</td>\n",
              "      <td>70.138895</td>\n",
              "      <td>198.832133</td>\n",
              "      <td>4.337363</td>\n",
              "      <td>211.203341</td>\n",
              "      <td>5.190045</td>\n",
              "      <td>0.0</td>\n",
              "      <td>0.0</td>\n",
              "    </tr>\n",
              "    <tr>\n",
              "      <th>4</th>\n",
              "      <td>921.160000</td>\n",
              "      <td>44.294000</td>\n",
              "      <td>277.800000</td>\n",
              "      <td>1.856660</td>\n",
              "      <td>136.500000</td>\n",
              "      <td>2.863283</td>\n",
              "      <td>8.9</td>\n",
              "      <td>14730.0</td>\n",
              "    </tr>\n",
              "    <tr>\n",
              "      <th>...</th>\n",
              "      <td>...</td>\n",
              "      <td>...</td>\n",
              "      <td>...</td>\n",
              "      <td>...</td>\n",
              "      <td>...</td>\n",
              "      <td>...</td>\n",
              "      <td>...</td>\n",
              "      <td>...</td>\n",
              "    </tr>\n",
              "    <tr>\n",
              "      <th>1090</th>\n",
              "      <td>918.900000</td>\n",
              "      <td>63.104000</td>\n",
              "      <td>192.900000</td>\n",
              "      <td>3.869906</td>\n",
              "      <td>207.300000</td>\n",
              "      <td>5.212070</td>\n",
              "      <td>0.0</td>\n",
              "      <td>0.0</td>\n",
              "    </tr>\n",
              "    <tr>\n",
              "      <th>1091</th>\n",
              "      <td>918.710000</td>\n",
              "      <td>49.568000</td>\n",
              "      <td>241.600000</td>\n",
              "      <td>1.811921</td>\n",
              "      <td>227.400000</td>\n",
              "      <td>2.371156</td>\n",
              "      <td>0.0</td>\n",
              "      <td>0.0</td>\n",
              "    </tr>\n",
              "    <tr>\n",
              "      <th>1092</th>\n",
              "      <td>916.600000</td>\n",
              "      <td>71.096000</td>\n",
              "      <td>189.300000</td>\n",
              "      <td>3.064608</td>\n",
              "      <td>200.800000</td>\n",
              "      <td>3.892276</td>\n",
              "      <td>0.0</td>\n",
              "      <td>0.0</td>\n",
              "    </tr>\n",
              "    <tr>\n",
              "      <th>1093</th>\n",
              "      <td>912.600000</td>\n",
              "      <td>58.406000</td>\n",
              "      <td>172.700000</td>\n",
              "      <td>3.825167</td>\n",
              "      <td>189.100000</td>\n",
              "      <td>4.764682</td>\n",
              "      <td>0.0</td>\n",
              "      <td>0.0</td>\n",
              "    </tr>\n",
              "    <tr>\n",
              "      <th>1094</th>\n",
              "      <td>921.530000</td>\n",
              "      <td>77.702000</td>\n",
              "      <td>97.100000</td>\n",
              "      <td>3.265932</td>\n",
              "      <td>125.900000</td>\n",
              "      <td>4.451511</td>\n",
              "      <td>0.0</td>\n",
              "      <td>0.0</td>\n",
              "    </tr>\n",
              "  </tbody>\n",
              "</table>\n",
              "<p>1064 rows × 8 columns</p>\n",
              "</div>"
            ],
            "text/plain": [
              "      air_pressure_9am  air_temp_9am  ...  rain_accumulation_9am  rain_duration_9am\n",
              "0           918.060000     74.822000  ...                    0.0                0.0\n",
              "1           917.347688     71.403843  ...                    0.0                0.0\n",
              "2           923.040000     60.638000  ...                    0.0               20.0\n",
              "3           920.502751     70.138895  ...                    0.0                0.0\n",
              "4           921.160000     44.294000  ...                    8.9            14730.0\n",
              "...                ...           ...  ...                    ...                ...\n",
              "1090        918.900000     63.104000  ...                    0.0                0.0\n",
              "1091        918.710000     49.568000  ...                    0.0                0.0\n",
              "1092        916.600000     71.096000  ...                    0.0                0.0\n",
              "1093        912.600000     58.406000  ...                    0.0                0.0\n",
              "1094        921.530000     77.702000  ...                    0.0                0.0\n",
              "\n",
              "[1064 rows x 8 columns]"
            ]
          },
          "metadata": {},
          "execution_count": 15
        }
      ]
    },
    {
      "cell_type": "markdown",
      "metadata": {
        "id": "C-olYtmZTwfq"
      },
      "source": [
        "Perform the test and Train split"
      ]
    },
    {
      "cell_type": "code",
      "metadata": {
        "id": "vxih-FzpT17l"
      },
      "source": [
        "X_train, X_test, y_train, y_test = train_test_split(X, y, test_size = 0.33, random_state = 324)"
      ],
      "execution_count": null,
      "outputs": []
    },
    {
      "cell_type": "code",
      "metadata": {
        "colab": {
          "base_uri": "https://localhost:8080/",
          "height": 300
        },
        "id": "Mk95kqGtTwHQ",
        "outputId": "2585d51b-a127-4cff-df5c-2ea3b62f14e6"
      },
      "source": [
        "y_train.describe()"
      ],
      "execution_count": null,
      "outputs": [
        {
          "output_type": "execute_result",
          "data": {
            "text/html": [
              "<div>\n",
              "<style scoped>\n",
              "    .dataframe tbody tr th:only-of-type {\n",
              "        vertical-align: middle;\n",
              "    }\n",
              "\n",
              "    .dataframe tbody tr th {\n",
              "        vertical-align: top;\n",
              "    }\n",
              "\n",
              "    .dataframe thead th {\n",
              "        text-align: right;\n",
              "    }\n",
              "</style>\n",
              "<table border=\"1\" class=\"dataframe\">\n",
              "  <thead>\n",
              "    <tr style=\"text-align: right;\">\n",
              "      <th></th>\n",
              "      <th>high_humidity_label</th>\n",
              "    </tr>\n",
              "  </thead>\n",
              "  <tbody>\n",
              "    <tr>\n",
              "      <th>count</th>\n",
              "      <td>712.000000</td>\n",
              "    </tr>\n",
              "    <tr>\n",
              "      <th>mean</th>\n",
              "      <td>0.494382</td>\n",
              "    </tr>\n",
              "    <tr>\n",
              "      <th>std</th>\n",
              "      <td>0.500320</td>\n",
              "    </tr>\n",
              "    <tr>\n",
              "      <th>min</th>\n",
              "      <td>0.000000</td>\n",
              "    </tr>\n",
              "    <tr>\n",
              "      <th>25%</th>\n",
              "      <td>0.000000</td>\n",
              "    </tr>\n",
              "    <tr>\n",
              "      <th>50%</th>\n",
              "      <td>0.000000</td>\n",
              "    </tr>\n",
              "    <tr>\n",
              "      <th>75%</th>\n",
              "      <td>1.000000</td>\n",
              "    </tr>\n",
              "    <tr>\n",
              "      <th>max</th>\n",
              "      <td>1.000000</td>\n",
              "    </tr>\n",
              "  </tbody>\n",
              "</table>\n",
              "</div>"
            ],
            "text/plain": [
              "       high_humidity_label\n",
              "count           712.000000\n",
              "mean              0.494382\n",
              "std               0.500320\n",
              "min               0.000000\n",
              "25%               0.000000\n",
              "50%               0.000000\n",
              "75%               1.000000\n",
              "max               1.000000"
            ]
          },
          "metadata": {},
          "execution_count": 17
        }
      ]
    },
    {
      "cell_type": "code",
      "metadata": {
        "colab": {
          "base_uri": "https://localhost:8080/",
          "height": 320
        },
        "id": "96Vb4jWFT_F3",
        "outputId": "1f05f99d-db2b-43d0-ec01-f3d903d90042"
      },
      "source": [
        "X_train.describe()"
      ],
      "execution_count": null,
      "outputs": [
        {
          "output_type": "execute_result",
          "data": {
            "text/html": [
              "<div>\n",
              "<style scoped>\n",
              "    .dataframe tbody tr th:only-of-type {\n",
              "        vertical-align: middle;\n",
              "    }\n",
              "\n",
              "    .dataframe tbody tr th {\n",
              "        vertical-align: top;\n",
              "    }\n",
              "\n",
              "    .dataframe thead th {\n",
              "        text-align: right;\n",
              "    }\n",
              "</style>\n",
              "<table border=\"1\" class=\"dataframe\">\n",
              "  <thead>\n",
              "    <tr style=\"text-align: right;\">\n",
              "      <th></th>\n",
              "      <th>air_pressure_9am</th>\n",
              "      <th>air_temp_9am</th>\n",
              "      <th>avg_wind_direction_9am</th>\n",
              "      <th>avg_wind_speed_9am</th>\n",
              "      <th>max_wind_direction_9am</th>\n",
              "      <th>max_wind_speed_9am</th>\n",
              "      <th>rain_accumulation_9am</th>\n",
              "      <th>rain_duration_9am</th>\n",
              "    </tr>\n",
              "  </thead>\n",
              "  <tbody>\n",
              "    <tr>\n",
              "      <th>count</th>\n",
              "      <td>712.000000</td>\n",
              "      <td>712.000000</td>\n",
              "      <td>712.000000</td>\n",
              "      <td>712.000000</td>\n",
              "      <td>712.000000</td>\n",
              "      <td>712.000000</td>\n",
              "      <td>712.000000</td>\n",
              "      <td>712.000000</td>\n",
              "    </tr>\n",
              "    <tr>\n",
              "      <th>mean</th>\n",
              "      <td>918.913897</td>\n",
              "      <td>65.194366</td>\n",
              "      <td>142.123330</td>\n",
              "      <td>5.568288</td>\n",
              "      <td>147.789373</td>\n",
              "      <td>7.089629</td>\n",
              "      <td>0.202399</td>\n",
              "      <td>282.884615</td>\n",
              "    </tr>\n",
              "    <tr>\n",
              "      <th>std</th>\n",
              "      <td>3.147923</td>\n",
              "      <td>11.210412</td>\n",
              "      <td>68.773699</td>\n",
              "      <td>4.467828</td>\n",
              "      <td>67.186609</td>\n",
              "      <td>5.486311</td>\n",
              "      <td>1.628988</td>\n",
              "      <td>1584.404987</td>\n",
              "    </tr>\n",
              "    <tr>\n",
              "      <th>min</th>\n",
              "      <td>907.990000</td>\n",
              "      <td>36.752000</td>\n",
              "      <td>15.500000</td>\n",
              "      <td>0.782929</td>\n",
              "      <td>31.800000</td>\n",
              "      <td>1.185578</td>\n",
              "      <td>0.000000</td>\n",
              "      <td>0.000000</td>\n",
              "    </tr>\n",
              "    <tr>\n",
              "      <th>25%</th>\n",
              "      <td>916.727792</td>\n",
              "      <td>57.375500</td>\n",
              "      <td>65.282862</td>\n",
              "      <td>2.304048</td>\n",
              "      <td>75.978656</td>\n",
              "      <td>3.168182</td>\n",
              "      <td>0.000000</td>\n",
              "      <td>0.000000</td>\n",
              "    </tr>\n",
              "    <tr>\n",
              "      <th>50%</th>\n",
              "      <td>919.000000</td>\n",
              "      <td>65.967556</td>\n",
              "      <td>166.225018</td>\n",
              "      <td>3.958486</td>\n",
              "      <td>176.800000</td>\n",
              "      <td>5.077854</td>\n",
              "      <td>0.000000</td>\n",
              "      <td>0.000000</td>\n",
              "    </tr>\n",
              "    <tr>\n",
              "      <th>75%</th>\n",
              "      <td>921.134993</td>\n",
              "      <td>73.908500</td>\n",
              "      <td>190.500000</td>\n",
              "      <td>7.504934</td>\n",
              "      <td>201.400000</td>\n",
              "      <td>9.104346</td>\n",
              "      <td>0.000000</td>\n",
              "      <td>0.000000</td>\n",
              "    </tr>\n",
              "    <tr>\n",
              "      <th>max</th>\n",
              "      <td>929.320000</td>\n",
              "      <td>91.112000</td>\n",
              "      <td>343.400000</td>\n",
              "      <td>21.541732</td>\n",
              "      <td>299.200000</td>\n",
              "      <td>26.351153</td>\n",
              "      <td>24.020000</td>\n",
              "      <td>17704.000000</td>\n",
              "    </tr>\n",
              "  </tbody>\n",
              "</table>\n",
              "</div>"
            ],
            "text/plain": [
              "       air_pressure_9am  air_temp_9am  ...  rain_accumulation_9am  rain_duration_9am\n",
              "count        712.000000    712.000000  ...             712.000000         712.000000\n",
              "mean         918.913897     65.194366  ...               0.202399         282.884615\n",
              "std            3.147923     11.210412  ...               1.628988        1584.404987\n",
              "min          907.990000     36.752000  ...               0.000000           0.000000\n",
              "25%          916.727792     57.375500  ...               0.000000           0.000000\n",
              "50%          919.000000     65.967556  ...               0.000000           0.000000\n",
              "75%          921.134993     73.908500  ...               0.000000           0.000000\n",
              "max          929.320000     91.112000  ...              24.020000       17704.000000\n",
              "\n",
              "[8 rows x 8 columns]"
            ]
          },
          "metadata": {},
          "execution_count": 18
        }
      ]
    },
    {
      "cell_type": "markdown",
      "metadata": {
        "id": "To0o-ueMUOuk"
      },
      "source": [
        "Fit the model on the training set"
      ]
    },
    {
      "cell_type": "code",
      "metadata": {
        "colab": {
          "base_uri": "https://localhost:8080/"
        },
        "id": "EO3A_v2kUPf2",
        "outputId": "dfcb87e7-d421-4a21-96cc-66bba482e0e1"
      },
      "source": [
        "humidity_classifier = DecisionTreeClassifier(max_leaf_nodes = 10, random_state = 0)\n",
        "humidity_classifier.fit(X_train, y_train)"
      ],
      "execution_count": null,
      "outputs": [
        {
          "output_type": "execute_result",
          "data": {
            "text/plain": [
              "DecisionTreeClassifier(ccp_alpha=0.0, class_weight=None, criterion='gini',\n",
              "                       max_depth=None, max_features=None, max_leaf_nodes=10,\n",
              "                       min_impurity_decrease=0.0, min_impurity_split=None,\n",
              "                       min_samples_leaf=1, min_samples_split=2,\n",
              "                       min_weight_fraction_leaf=0.0, presort='deprecated',\n",
              "                       random_state=0, splitter='best')"
            ]
          },
          "metadata": {},
          "execution_count": 19
        }
      ]
    },
    {
      "cell_type": "code",
      "metadata": {
        "colab": {
          "base_uri": "https://localhost:8080/"
        },
        "id": "ISEXEZz_UW1q",
        "outputId": "97246d3c-42aa-4b22-ba6c-89e10a58f992"
      },
      "source": [
        "type(humidity_classifier)"
      ],
      "execution_count": null,
      "outputs": [
        {
          "output_type": "execute_result",
          "data": {
            "text/plain": [
              "sklearn.tree._classes.DecisionTreeClassifier"
            ]
          },
          "metadata": {},
          "execution_count": 20
        }
      ]
    },
    {
      "cell_type": "markdown",
      "metadata": {
        "id": "4zuUW3NQUZi7"
      },
      "source": [
        "Test the model on the testing set"
      ]
    },
    {
      "cell_type": "code",
      "metadata": {
        "colab": {
          "base_uri": "https://localhost:8080/"
        },
        "id": "Th8_qF0OUelS",
        "outputId": "f6f3c1c4-a36e-44c8-a257-7ced2f1a8642"
      },
      "source": [
        "predictions = humidity_classifier.predict(X_test)\n",
        "type(predictions)"
      ],
      "execution_count": null,
      "outputs": [
        {
          "output_type": "execute_result",
          "data": {
            "text/plain": [
              "numpy.ndarray"
            ]
          },
          "metadata": {},
          "execution_count": 21
        }
      ]
    },
    {
      "cell_type": "code",
      "metadata": {
        "colab": {
          "base_uri": "https://localhost:8080/"
        },
        "id": "8SLVe6MJUo2s",
        "outputId": "f079ca89-2543-41a4-ddb2-cc3809357d42"
      },
      "source": [
        "predictions[:10]\n",
        "#predictions[:len(predictions)]"
      ],
      "execution_count": null,
      "outputs": [
        {
          "output_type": "execute_result",
          "data": {
            "text/plain": [
              "array([0, 0, 1, 1, 1, 1, 0, 0, 0, 1])"
            ]
          },
          "metadata": {},
          "execution_count": 22
        }
      ]
    },
    {
      "cell_type": "code",
      "metadata": {
        "colab": {
          "base_uri": "https://localhost:8080/",
          "height": 363
        },
        "id": "4--sjj4mUreV",
        "outputId": "310d64d5-32e3-4122-d107-5c608e4ae5c9"
      },
      "source": [
        "y_test[['high_humidity_label']][:10]"
      ],
      "execution_count": null,
      "outputs": [
        {
          "output_type": "execute_result",
          "data": {
            "text/html": [
              "<div>\n",
              "<style scoped>\n",
              "    .dataframe tbody tr th:only-of-type {\n",
              "        vertical-align: middle;\n",
              "    }\n",
              "\n",
              "    .dataframe tbody tr th {\n",
              "        vertical-align: top;\n",
              "    }\n",
              "\n",
              "    .dataframe thead th {\n",
              "        text-align: right;\n",
              "    }\n",
              "</style>\n",
              "<table border=\"1\" class=\"dataframe\">\n",
              "  <thead>\n",
              "    <tr style=\"text-align: right;\">\n",
              "      <th></th>\n",
              "      <th>high_humidity_label</th>\n",
              "    </tr>\n",
              "  </thead>\n",
              "  <tbody>\n",
              "    <tr>\n",
              "      <th>456</th>\n",
              "      <td>0</td>\n",
              "    </tr>\n",
              "    <tr>\n",
              "      <th>845</th>\n",
              "      <td>0</td>\n",
              "    </tr>\n",
              "    <tr>\n",
              "      <th>693</th>\n",
              "      <td>1</td>\n",
              "    </tr>\n",
              "    <tr>\n",
              "      <th>259</th>\n",
              "      <td>1</td>\n",
              "    </tr>\n",
              "    <tr>\n",
              "      <th>723</th>\n",
              "      <td>1</td>\n",
              "    </tr>\n",
              "    <tr>\n",
              "      <th>224</th>\n",
              "      <td>1</td>\n",
              "    </tr>\n",
              "    <tr>\n",
              "      <th>300</th>\n",
              "      <td>1</td>\n",
              "    </tr>\n",
              "    <tr>\n",
              "      <th>442</th>\n",
              "      <td>0</td>\n",
              "    </tr>\n",
              "    <tr>\n",
              "      <th>585</th>\n",
              "      <td>1</td>\n",
              "    </tr>\n",
              "    <tr>\n",
              "      <th>1057</th>\n",
              "      <td>1</td>\n",
              "    </tr>\n",
              "  </tbody>\n",
              "</table>\n",
              "</div>"
            ],
            "text/plain": [
              "      high_humidity_label\n",
              "456                     0\n",
              "845                     0\n",
              "693                     1\n",
              "259                     1\n",
              "723                     1\n",
              "224                     1\n",
              "300                     1\n",
              "442                     0\n",
              "585                     1\n",
              "1057                    1"
            ]
          },
          "metadata": {},
          "execution_count": 23
        }
      ]
    },
    {
      "cell_type": "markdown",
      "metadata": {
        "id": "PWgF5BPJUvWK"
      },
      "source": [
        "Measure the accuracy of the data"
      ]
    },
    {
      "cell_type": "code",
      "metadata": {
        "colab": {
          "base_uri": "https://localhost:8080/"
        },
        "id": "L-C_ePFhUwAn",
        "outputId": "2c2e3d82-b993-4980-c258-3c168978f66d"
      },
      "source": [
        "accuracy_score(y_test, y_pred = predictions)"
      ],
      "execution_count": null,
      "outputs": [
        {
          "output_type": "execute_result",
          "data": {
            "text/plain": [
              "0.8153409090909091"
            ]
          },
          "metadata": {},
          "execution_count": 24
        }
      ]
    },
    {
      "cell_type": "markdown",
      "metadata": {
        "id": "w30hX26eU052"
      },
      "source": [
        "Measuring the mean squared error"
      ]
    },
    {
      "cell_type": "code",
      "metadata": {
        "colab": {
          "base_uri": "https://localhost:8080/"
        },
        "id": "HjajCvRKUyaC",
        "outputId": "de7d74e0-e7f7-45cf-e8f4-27cc5e967305"
      },
      "source": [
        "from sklearn.metrics import mean_squared_error\n",
        "mean_squared_error(y_test, y_pred = predictions)"
      ],
      "execution_count": null,
      "outputs": [
        {
          "output_type": "execute_result",
          "data": {
            "text/plain": [
              "0.1846590909090909"
            ]
          },
          "metadata": {},
          "execution_count": 25
        }
      ]
    }
  ]
}